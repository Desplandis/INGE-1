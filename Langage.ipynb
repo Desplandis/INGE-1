{
 "cells": [
  {
   "cell_type": "code",
   "execution_count": 1,
   "id": "2507e6dd",
   "metadata": {},
   "outputs": [],
   "source": [
    "import numpy as np\n",
    "\n",
    "# Instructions de flot de contrôle:\n",
    "# - Sequence: retour à la ligne\n",
    "# - Branchement: if: // elif: // else: //\n",
    "# - No-op: pass\n",
    "# - Boucle for: for i in range(start, stop, step): //\n",
    "# - Boucle while: while cond: //\n",
    "# - Sortie boucle: break\n",
    "# - Itération suivante: continue\n",
    "\n",
    "\n",
    "# Liste des valeurs définies en mini-python\n",
    "from numpy import Infinity\n",
    "\n",
    "# Liste des fonctions définies en mini-python\n",
    "min, max\n",
    "from numpy import sqrt\n",
    "from numpy import floor\n",
    "from numpy import abs\n",
    "from numpy import exp, log\n",
    "from numpy import sin, cos, tan\n",
    "from numpy import arcsin, arccos, arctan\n",
    "from numpy import sinh, cosh, tanh\n",
    "from numpy import arcsinh, arccosh, arctanh\n",
    "from numpy import mod\n",
    "\n",
    "def size(t):\n",
    "    shape = np.shape(t)\n",
    "    if np.ndim(t) == 1:\n",
    "        return shape[0]\n",
    "    else:\n",
    "        return shape\n",
    "\n",
    "def rand():\n",
    "    return np.random.random()\n",
    "\n",
    "def vector(n):\n",
    "    if np.isscalar(n):\n",
    "        return np.zeros(n)\n",
    "    else:\n",
    "        return np.array(n)\n",
    "    \n",
    "def matrix(n, m):\n",
    "    return np.zeros((n, m))\n",
    "\n",
    "def tensor(*args):\n",
    "    return np.zeros(args)\n",
    "\n",
    "def array(a):\n",
    "    return np.array(a)\n",
    "\n",
    "def length(s):\n",
    "    return len(s)\n",
    "\n",
    "def substr(s, begin, length):\n",
    "    return s[begin:begin+length]"
   ]
  },
  {
   "cell_type": "markdown",
   "id": "6840b6a4",
   "metadata": {},
   "source": [
    "# Les instructions de contrôle"
   ]
  },
  {
   "cell_type": "markdown",
   "id": "9cf97b6d",
   "metadata": {},
   "source": [
    "## Boucles à compteur\n",
    "\n",
    "```python\n",
    "for i in range(start, stop, step):\n",
    "    pass\n",
    "```\n",
    "\n",
    "À une itération `n`, `i` vaut :\n",
    "$$\n",
    "\\begin{align}\n",
    "\\mathsf{i}_0 & = \\mathsf{start} \\\\\n",
    "\\mathsf{i}_n & = \\mathsf{i}_{n-1} + \\mathsf{step} &\n",
    "\\forall{n}\\in\\mathbb{N}^{*}\n",
    "\\end{align}\n",
    "$$\n",
    "\n",
    "- Si $\\mathsf{step} > 0$, on a pour toute itération\n",
    "$\\mathsf{start} \\leq \\mathsf{i} < \\mathsf{stop}$.\n",
    "- Si $\\mathsf{step} < 0$, on a pour toute itération\n",
    "$\\mathsf{stop} < \\mathsf{i} \\leq \\mathsf{start}$."
   ]
  },
  {
   "cell_type": "markdown",
   "id": "a7a3a0b6",
   "metadata": {},
   "source": [
    "**Exemple** : Calcul de la factorielle de $n$:"
   ]
  },
  {
   "cell_type": "code",
   "execution_count": 2,
   "id": "335873d5",
   "metadata": {},
   "outputs": [
    {
     "data": {
      "text/plain": [
       "6"
      ]
     },
     "execution_count": 2,
     "metadata": {},
     "output_type": "execute_result"
    }
   ],
   "source": [
    "N = 3\n",
    "\n",
    "# Factorielle\n",
    "res = 1\n",
    "for i in range(1, N + 1, 1): # i ∈ [1, N]\n",
    "    res = i * res\n",
    "\n",
    "res"
   ]
  },
  {
   "cell_type": "markdown",
   "id": "fbab054d",
   "metadata": {},
   "source": [
    "**Exemple** : Calcul de la somme des éléments d’indices pairs et impairs d’un tableau `t` de taille $N$."
   ]
  },
  {
   "cell_type": "code",
   "execution_count": 3,
   "id": "16475f97",
   "metadata": {},
   "outputs": [
    {
     "data": {
      "text/plain": [
       "(6, 4)"
      ]
     },
     "execution_count": 3,
     "metadata": {},
     "output_type": "execute_result"
    }
   ],
   "source": [
    "T = [1, 2, 3, 4]\n",
    "N = size(T)\n",
    "\n",
    "# Calcul éléments pairs et impairs\n",
    "impair = 0\n",
    "pair = 0\n",
    "\n",
    "for i in range(1, N, 2):\n",
    "    impair = impair + T[i]\n",
    "    \n",
    "for i in range(0, N, 2):\n",
    "    pair = pair + T[i]\n",
    "\n",
    "impair, pair"
   ]
  },
  {
   "cell_type": "markdown",
   "id": "7aa2984f",
   "metadata": {},
   "source": [
    "**Exemple** : Tri dans l’ordre croissant des éléments d’un vecteur V"
   ]
  },
  {
   "cell_type": "code",
   "execution_count": 4,
   "id": "c94f5b9c",
   "metadata": {},
   "outputs": [
    {
     "data": {
      "text/plain": [
       "[5, 4, 3, 1]"
      ]
     },
     "execution_count": 4,
     "metadata": {},
     "output_type": "execute_result"
    }
   ],
   "source": [
    "V = [4, 5, 3, 1]\n",
    "N = size(V)\n",
    "\n",
    "# Tri dans l'ordre croissant de V\n",
    "for i in range(0, N-1, 1): # i ∈ [1, N-2]\n",
    "    for j in range(i+1, N):\n",
    "        # On compare le V[i] courant avec toutes les indices suivant i\n",
    "        if (V[i] < V[j]):\n",
    "            # On échange V[i] et V[j] si V[i] < V[j] \n",
    "            tmp = V[i]\n",
    "            V[i] = V[j]\n",
    "            V[j] = tmp\n",
    "\n",
    "V"
   ]
  },
  {
   "cell_type": "markdown",
   "id": "0656cd19",
   "metadata": {},
   "source": [
    "**Exemple** : recherche du minimum dans un vecteur `V`"
   ]
  },
  {
   "cell_type": "code",
   "execution_count": 5,
   "id": "c51d60a4",
   "metadata": {},
   "outputs": [
    {
     "data": {
      "text/plain": [
       "2"
      ]
     },
     "execution_count": 5,
     "metadata": {},
     "output_type": "execute_result"
    }
   ],
   "source": [
    "V = [2, 3, 4, 5, 6]\n",
    "N = size(V)\n",
    "\n",
    "# Recherche de la valeur minimale de v\n",
    "mn = +Infinity\n",
    "for i in range(0, N, 1):\n",
    "    if V[i] < mn:\n",
    "        mn = V[i]\n",
    "\n",
    "mn"
   ]
  },
  {
   "cell_type": "markdown",
   "id": "e3717a9a",
   "metadata": {},
   "source": [
    "**Exemple** : *Tri par sélection*\n",
    "\n",
    "On combine l'algo de tri ci-dessus avec l'algo de recherche de minimum"
   ]
  },
  {
   "cell_type": "code",
   "execution_count": 6,
   "id": "f641987e",
   "metadata": {},
   "outputs": [
    {
     "data": {
      "text/plain": [
       "[1, 3, 4, 5]"
      ]
     },
     "execution_count": 6,
     "metadata": {},
     "output_type": "execute_result"
    }
   ],
   "source": [
    "V = [4, 5, 3, 1]\n",
    "N = size(V)\n",
    "\n",
    "for i in range(0, N-1, 1):\n",
    "    mn = V[i]\n",
    "    idx = i\n",
    "    # Recherche de l'élément minimal\n",
    "    for j in range(i+1, N, 1):\n",
    "        if (V[j] < mn):\n",
    "            mn = V[j]\n",
    "            idx = j\n",
    "    # On échange la valeur à l'indice courant avec l'élement minimal\n",
    "    G = V[idx]\n",
    "    V[idx] = V[i]\n",
    "    V[i] = G\n",
    "\n",
    "V"
   ]
  },
  {
   "cell_type": "markdown",
   "id": "3a8b03eb",
   "metadata": {},
   "source": [
    "### Exercice 1.9\n",
    "\n",
    "Algorithme retournant, pour un entier N donné, la valeur au rang N de la suite de Fibonnaci $(\\mathcal{F}_n)_{n\\in\\mathbb{N}}$"
   ]
  },
  {
   "cell_type": "code",
   "execution_count": 7,
   "id": "8e614006",
   "metadata": {},
   "outputs": [],
   "source": [
    "N = 12"
   ]
  },
  {
   "cell_type": "code",
   "execution_count": 8,
   "id": "313a9eed",
   "metadata": {},
   "outputs": [
    {
     "data": {
      "text/plain": [
       "144"
      ]
     },
     "execution_count": 8,
     "metadata": {},
     "output_type": "execute_result"
    }
   ],
   "source": [
    "# Solution 1\n",
    "\n",
    "F0 = 1\n",
    "F1 = 1\n",
    "\n",
    "for i in range(2, N, 1):\n",
    "    F2 = F0 + F1\n",
    "    F0 = F1\n",
    "    F1 = F2\n",
    "    \n",
    "F1"
   ]
  },
  {
   "cell_type": "code",
   "execution_count": 9,
   "id": "57f55859",
   "metadata": {},
   "outputs": [
    {
     "data": {
      "text/plain": [
       "144"
      ]
     },
     "execution_count": 9,
     "metadata": {},
     "output_type": "execute_result"
    }
   ],
   "source": [
    "# Solution 2\n",
    "\n",
    "F0 = 1\n",
    "F1 = 1\n",
    "\n",
    "for i in range(2, N, 1):\n",
    "    F1 = F0 + F1\n",
    "    F0 = F1 - F0\n",
    "    \n",
    "F1"
   ]
  },
  {
   "cell_type": "markdown",
   "id": "a8ef31df",
   "metadata": {},
   "source": [
    "## Les boucles tant que\n",
    "\n",
    "```python\n",
    "while cond:\n",
    "    pass\n",
    "```\n",
    "\n",
    "On itère tant que la condition `cond` est vérifiée."
   ]
  },
  {
   "cell_type": "markdown",
   "id": "efa88736",
   "metadata": {},
   "source": [
    "### Exemple : Méthode du Héron"
   ]
  },
  {
   "cell_type": "code",
   "execution_count": 10,
   "id": "66ec09fb",
   "metadata": {},
   "outputs": [
    {
     "data": {
      "text/plain": [
       "4.0"
      ]
     },
     "execution_count": 10,
     "metadata": {},
     "output_type": "execute_result"
    }
   ],
   "source": [
    "A = 16\n",
    "EPSILON = 10 ** (-16)\n",
    "\n",
    "# Méthode du héron\n",
    "r = 1\n",
    "tmp = 0\n",
    "\n",
    "while abs(tmp - r) >= EPSILON:\n",
    "    tmp = r\n",
    "    r = (r + A /  r) / 2\n",
    "\n",
    "r"
   ]
  },
  {
   "cell_type": "markdown",
   "id": "681c5ffa",
   "metadata": {},
   "source": [
    "### Exercice 1.10\n",
    "\n",
    "Algorithme retournant le nombre d'itération de la suite de Syracuse pour un entier initial $N\\in\\mathbb{N}^{*}$"
   ]
  },
  {
   "cell_type": "code",
   "execution_count": 11,
   "id": "e1903506",
   "metadata": {},
   "outputs": [
    {
     "data": {
      "text/plain": [
       "(1.0, 113)"
      ]
     },
     "execution_count": 11,
     "metadata": {},
     "output_type": "execute_result"
    }
   ],
   "source": [
    "N = 4000\n",
    "\n",
    "U = N # u_0 = N\n",
    "I = 0 # Nombre d'itérations\n",
    "\n",
    "while U != 1:\n",
    "    I = I + 1\n",
    "    if U % 2 == 0:\n",
    "        U = U/2   # u_(n+1) = u_(n) / 2\n",
    "    else:\n",
    "        U = 3*U+1 # u_(n+1) = 3*(u_(n)) + 1\n",
    "\n",
    "U, I"
   ]
  },
  {
   "cell_type": "markdown",
   "id": "0eeb9513",
   "metadata": {},
   "source": [
    "### Boucles jusqu'à ce que\n",
    "\n",
    "Il n'y a pas de boucles \"do-until\" en python (et par extension en mini-python). L'idée étant que l'on ne boucle plus si la condition est remplie en fin d'itération !"
   ]
  },
  {
   "cell_type": "markdown",
   "id": "7c32924c",
   "metadata": {},
   "source": [
    "### Exercice 1.11"
   ]
  },
  {
   "cell_type": "markdown",
   "id": "8f027a9c",
   "metadata": {},
   "source": [
    "## Sorties de boucle\n",
    "\n",
    "```python\n",
    "while True:      # [0]\n",
    "    # ...        # [1]\n",
    "    break        # [2]\n",
    "    # ...        # [3]\n",
    "\n",
    "# ...            # [4]\n",
    "```\n",
    "\n",
    "Ordre d'exécution:\n",
    "$$\n",
    "[0] \\rightarrow [1] \\rightarrow [2] \\rightarrow [4]\n",
    "$$"
   ]
  },
  {
   "cell_type": "markdown",
   "id": "8d593f7a",
   "metadata": {},
   "source": [
    "**Exemple** : calcul de plus petite valeur de n tel que la somme des $n$ dépasse $10000$"
   ]
  },
  {
   "cell_type": "code",
   "execution_count": 12,
   "id": "d0536a58",
   "metadata": {},
   "outputs": [
    {
     "data": {
      "text/plain": [
       "32"
      ]
     },
     "execution_count": 12,
     "metadata": {},
     "output_type": "execute_result"
    }
   ],
   "source": [
    "s = 0\n",
    "n = 1\n",
    "\n",
    "while True:\n",
    "    s = s + n * n\n",
    "    n = n + 1\n",
    "    if s > 10000:\n",
    "        break\n",
    "\n",
    "n"
   ]
  },
  {
   "cell_type": "markdown",
   "id": "ca732fc6",
   "metadata": {},
   "source": [
    "**Exemple** : recherche d’un élément E dans un tableau"
   ]
  },
  {
   "cell_type": "code",
   "execution_count": 13,
   "id": "a7492d6c",
   "metadata": {},
   "outputs": [
    {
     "data": {
      "text/plain": [
       "True"
      ]
     },
     "execution_count": 13,
     "metadata": {},
     "output_type": "execute_result"
    }
   ],
   "source": [
    "T = [1, 2, 3, 4, 5, 6, 7]\n",
    "E = 4\n",
    "\n",
    "# Recherche de E dans T\n",
    "n = size(T)\n",
    "present = False\n",
    "\n",
    "for i in range(0, n):\n",
    "    if T[i] == E:\n",
    "        present = True\n",
    "\n",
    "present"
   ]
  },
  {
   "cell_type": "markdown",
   "id": "d86d0860",
   "metadata": {},
   "source": [
    "## Passage à l'itération suivante\n",
    "\n",
    "```python\n",
    "while True:      # [0]\n",
    "    # ...        # [1]\n",
    "    continue     # [2]\n",
    "    # ...        # [3]\n",
    "\n",
    "# ...            # [4]\n",
    "```\n",
    "\n",
    "Ordre d'exécution:\n",
    "$$\n",
    "[0] \\rightarrow [1] \\rightarrow [2] \\rightarrow [1] \\rightarrow [2]\n",
    "\\rightarrow \\dots\n",
    "$$"
   ]
  },
  {
   "cell_type": "markdown",
   "id": "ee7cc69f",
   "metadata": {},
   "source": [
    "**Exemple** : recherche de l'élément maximal d'un vecteur"
   ]
  },
  {
   "cell_type": "code",
   "execution_count": 14,
   "id": "29e4e8a9",
   "metadata": {},
   "outputs": [
    {
     "data": {
      "text/plain": [
       "6"
      ]
     },
     "execution_count": 14,
     "metadata": {},
     "output_type": "execute_result"
    }
   ],
   "source": [
    "T = [1, 2, 3, 4, 5, 6, 7]\n",
    "\n",
    "# Recherche de l'indice de l'élement max\n",
    "n = size(T)\n",
    "m = -Infinity\n",
    "idx = 0\n",
    "for i in range(0, n, 1):\n",
    "    if T[i] < m:\n",
    "        continue\n",
    "    m = T[i]\n",
    "    idx = i\n",
    "    \n",
    "idx"
   ]
  },
  {
   "cell_type": "markdown",
   "id": "903dfa41",
   "metadata": {},
   "source": [
    "## Goto\n",
    "\n",
    "- Sauter à n'importe quelle instruction du programme.\n",
    "- Edsger Dijkstra: *Go To Statement Considered Harmful*\n",
    "\n",
    "### Exercice 1.14 : Expressivité de `goto`"
   ]
  },
  {
   "cell_type": "markdown",
   "id": "eb4bfd16",
   "metadata": {},
   "source": [
    "# Profondeur de code"
   ]
  },
  {
   "cell_type": "markdown",
   "id": "dd5f976e",
   "metadata": {},
   "source": [
    "**Squelette d'un algorithme** : Structure du code, soit l'ensemble des instructions de contrôle (disjonctions, boucles, sorties de boucles et passage à l'itération suivante).\n",
    "\n",
    "```python\n",
    "for:\n",
    "    for:\n",
    "        for:\n",
    "            if:\n",
    "                continue\n",
    "```\n",
    "\n",
    "**Degré d'emboitement** : Nombre maximal de boucles et disjonctions imbriquées. Généralement en python, le degré d'emboitement est donné par le nombre de tabulation maximal de votre code.\n",
    "\n",
    "### Exercice 1.15\n",
    "\n",
    "1. Ecrire un algorithme permettant de générer automatiquement une matrice aléatoire de dimension $N \\times M$ dont les éléments sont des entiers tirés suivant une loi uniforme définie sur l’intervalle $[1, 100]$."
   ]
  },
  {
   "cell_type": "code",
   "execution_count": 15,
   "id": "169e5ed7",
   "metadata": {},
   "outputs": [
    {
     "data": {
      "text/plain": [
       "48.0"
      ]
     },
     "execution_count": 15,
     "metadata": {},
     "output_type": "execute_result"
    }
   ],
   "source": [
    "# Comment générer un nombre aléatoire entre [1, 100] ?\n",
    "\n",
    "floor(100 * rand()) + 1"
   ]
  },
  {
   "cell_type": "code",
   "execution_count": 16,
   "id": "dc5e37e2",
   "metadata": {},
   "outputs": [
    {
     "data": {
      "text/plain": [
       "array([[63., 46., 87., 45., 90.],\n",
       "       [61., 50., 90., 48., 15.],\n",
       "       [17.,  5., 20., 54., 73.],\n",
       "       [20., 80., 55.,  8., 17.]])"
      ]
     },
     "execution_count": 16,
     "metadata": {},
     "output_type": "execute_result"
    }
   ],
   "source": [
    "N = 4\n",
    "M = 5\n",
    "\n",
    "# Génération de la matrix N*M\n",
    "T = matrix(N, M)\n",
    "\n",
    "for i in range(0, N, 1):\n",
    "    for j in range(0, M, 1):\n",
    "        T[i][j] = floor(100 * rand()) + 1\n",
    "\n",
    "T"
   ]
  },
  {
   "cell_type": "markdown",
   "id": "674b67a9",
   "metadata": {},
   "source": [
    "2. Compléter cet algorithme avec les instructions permettant de rechercher dans la matrice générée, la plus longue séquence de nombres entiers (une séquence étant définie comme une suite d’entiers consécutifs sur une ligne ou une colonne donnée). L’algorithme devra retourner la longueur de cette séquence. Notons que cette longueur ne peut excéder `max(N, M, 100)`."
   ]
  },
  {
   "cell_type": "code",
   "execution_count": 17,
   "id": "3ac7c219",
   "metadata": {},
   "outputs": [],
   "source": [
    "MAX_EN_LIGNE = 0\n",
    "\n",
    "for i in range(0, N, 1):\n",
    "    seq = 1\n",
    "    for j in range(1, M-1, 1):\n",
    "        # tant que consécutif, on incrémente seq\n",
    "        if T[i][j+1] - T[i][j] == 1:\n",
    "            seq = seq + 1\n",
    "        # si non\n",
    "        else:\n",
    "            seq = 1\n",
    "    \n",
    "# TODO: Matrice transposée"
   ]
  },
  {
   "cell_type": "markdown",
   "id": "95953e58",
   "metadata": {},
   "source": [
    "3. Ecrire le squelette de l’algorithme et indiquer son degré d’emboîtement."
   ]
  },
  {
   "cell_type": "markdown",
   "id": "dd35d807",
   "metadata": {},
   "source": [
    "# Les modules/functions"
   ]
  },
  {
   "cell_type": "code",
   "execution_count": 18,
   "id": "dee9a484",
   "metadata": {},
   "outputs": [],
   "source": [
    "def identificateur_de_module(p1, p2, p3, pn): # paramètres formels\n",
    "    pass # Corps du module\n",
    "\n",
    "# appel du module avec des paramètres actuels\n",
    "identificateur_de_module(1, 2.0, \"p3\", [4, 5])"
   ]
  },
  {
   "cell_type": "markdown",
   "id": "6dcf6386",
   "metadata": {},
   "source": [
    "**Passage par référence et par valeur**\n",
    "\n",
    "\n",
    "**Cas de python et mini-python**"
   ]
  },
  {
   "cell_type": "code",
   "execution_count": 19,
   "id": "5b9eb0f8",
   "metadata": {},
   "outputs": [
    {
     "data": {
      "text/plain": [
       "array([[1., 1., 0., 1.],\n",
       "       [0., 0., 0., 1.],\n",
       "       [1., 0., 0., 1.],\n",
       "       [1., 0., 0., 1.]])"
      ]
     },
     "execution_count": 19,
     "metadata": {},
     "output_type": "execute_result"
    }
   ],
   "source": [
    "# Génère une matrice aléatoire de dimension n * m\n",
    "# où l'ensemble de ces éléments sont compris dans [min, max[\n",
    "def random_int_matrix(n, m, min, max):\n",
    "    mat = matrix(n, m)\n",
    "    for i in range(0, n, 1):\n",
    "        for j in range(0, m, 1):\n",
    "            v = floor(rand() * abs(max - min)) + min\n",
    "            mat[i][j] = v\n",
    "    return mat\n",
    "\n",
    "random_int_matrix(4, 4, 0, 2)"
   ]
  },
  {
   "cell_type": "markdown",
   "id": "32ab5c62",
   "metadata": {},
   "source": [
    "**Exemple**: Modularisation d'un code de produit matriciel"
   ]
  },
  {
   "cell_type": "code",
   "execution_count": 20,
   "id": "e6fd6be9",
   "metadata": {},
   "outputs": [
    {
     "data": {
      "text/plain": [
       "(array([[3., 1.],\n",
       "        [3., 1.]]),\n",
       " array([[1., 3.],\n",
       "        [0., 3.]]),\n",
       " array([[ 3., 12.],\n",
       "        [ 3., 12.]]))"
      ]
     },
     "execution_count": 20,
     "metadata": {},
     "output_type": "execute_result"
    }
   ],
   "source": [
    "N = 2\n",
    "\n",
    "A = random_int_matrix(N, N, 0, 4)\n",
    "B = random_int_matrix(N, N, 0, 4)\n",
    "C = random_int_matrix(N, N, 0, 4)\n",
    "\n",
    "def multiply_matrices(a, b, c):\n",
    "    # Récupération des tailles des matrices\n",
    "    sa = size(A)\n",
    "    sb = size(B)\n",
    "    nla = sa[0]\n",
    "    nca = sa[1]\n",
    "    ncb = sb[1]\n",
    "    # Calcul du produit matriciel\n",
    "    for i in range(0, nla, 1):\n",
    "        for j in range(0, ncb, 1):\n",
    "            c[i, j] = 0\n",
    "            for k in range(0, nca, 1):\n",
    "                c[i, j] = c[i, j] + a[i, k] * b[k, j]\n",
    "                \n",
    "multiply_matrices(A, B, C)\n",
    "\n",
    "A, B, C\n",
    "# np.dot(A, B)"
   ]
  },
  {
   "cell_type": "markdown",
   "id": "405adaf4",
   "metadata": {},
   "source": [
    "## Débranchement/Sortie de module"
   ]
  },
  {
   "cell_type": "code",
   "execution_count": 21,
   "id": "70770beb",
   "metadata": {},
   "outputs": [
    {
     "name": "stdout",
     "output_type": "stream",
     "text": [
      "0\n",
      "1\n",
      "3\n"
     ]
    }
   ],
   "source": [
    "def function():\n",
    "    print(1) # [1]\n",
    "    return\n",
    "    print(2) # [2]\n",
    "\n",
    "print('0')\n",
    "function()\n",
    "print('3')"
   ]
  },
  {
   "cell_type": "code",
   "execution_count": 22,
   "id": "d07e8d67",
   "metadata": {},
   "outputs": [],
   "source": [
    "# TODO"
   ]
  },
  {
   "cell_type": "markdown",
   "id": "7eb2d0bb",
   "metadata": {},
   "source": [
    "**Exemple**: écrivons un algorithme de transposition de matrice (nous supposerons ici que la matrice à transposer est carrée)"
   ]
  },
  {
   "cell_type": "code",
   "execution_count": 23,
   "id": "c0af8920",
   "metadata": {},
   "outputs": [],
   "source": [
    "# Transposée en place\n",
    "def transpose(A):\n",
    "    S = size(A)\n",
    "    NL = S[0]\n",
    "    for i in range(0, NL, 1):\n",
    "        for j in range(0, i):\n",
    "            G = A[i, j]\n",
    "            A[i, j] = A[j, i]\n",
    "            A[j, i] = G\n",
    "\n",
    "\n",
    "# Transposée en copie\n",
    "# => Itération sur tous les indices et copie dans une nouvelle matrice"
   ]
  },
  {
   "cell_type": "code",
   "execution_count": 24,
   "id": "87267dae",
   "metadata": {},
   "outputs": [
    {
     "name": "stdout",
     "output_type": "stream",
     "text": [
      "[[3. 0. 0.]\n",
      " [0. 4. 1.]\n",
      " [3. 1. 2.]]\n",
      "[[3. 0. 3.]\n",
      " [0. 4. 1.]\n",
      " [0. 1. 2.]]\n"
     ]
    }
   ],
   "source": [
    "A = random_int_matrix(3, 3, 0, 5)\n",
    "\n",
    "print(A)\n",
    "\n",
    "transpose(A)\n",
    "print(A)"
   ]
  },
  {
   "cell_type": "markdown",
   "id": "4b6931d7",
   "metadata": {},
   "source": [
    "**Attention** : nous conclurons cette partie en indiquant que si les paramètres formels d’un module sont nécessairement des identificateurs (de quelque type que ce soit), il n’en va pas de même pour les paramètres actuels qui peuvent être :\n",
    "- des constantes\n",
    "- des identificateurs auxquels on aura préalablement affecté une variable\n",
    "- des expressions algébriques (à valeur dans l’ensemble spécifié par le paramètre formel correspondant)."
   ]
  },
  {
   "cell_type": "markdown",
   "id": "c23bd19a",
   "metadata": {},
   "source": [
    "## Types de modules\n",
    "\n",
    "- Fonction vs Procédures\n",
    "\n",
    "On étend la syntaxe précédente avec `return` d'une valeur\n",
    "```py\n",
    "def function():\n",
    "    return 42\n",
    "    \n",
    "x = function() # x vaut 42\n",
    "```\n"
   ]
  },
  {
   "cell_type": "markdown",
   "id": "73e84ea6",
   "metadata": {},
   "source": [
    "**Exemple 1** Norme d'un vecteur"
   ]
  },
  {
   "cell_type": "code",
   "execution_count": 25,
   "id": "6e25276b",
   "metadata": {},
   "outputs": [
    {
     "data": {
      "text/plain": [
       "4.58257569495584"
      ]
     },
     "execution_count": 25,
     "metadata": {},
     "output_type": "execute_result"
    }
   ],
   "source": [
    "def norm(V):    # V ici n'est passé qu'en entrée\n",
    "    T = size(V)\n",
    "    NORM = 0\n",
    "    for i in range(0, T, 1):\n",
    "        NORM = NORM + V[i] * V[i]\n",
    "    return sqrt(NORM)\n",
    "\n",
    "V = np.array([1, 2, 4])\n",
    "norm(V)"
   ]
  },
  {
   "cell_type": "markdown",
   "id": "a6fbd03e",
   "metadata": {},
   "source": [
    "**Exemple 2** Normalisation d'un vecteur"
   ]
  },
  {
   "cell_type": "code",
   "execution_count": 26,
   "id": "6655f6ec",
   "metadata": {},
   "outputs": [
    {
     "data": {
      "text/plain": [
       "array([0.21821789, 0.43643578, 0.87287156])"
      ]
     },
     "execution_count": 26,
     "metadata": {},
     "output_type": "execute_result"
    }
   ],
   "source": [
    "V = np.array([1.0, 2.0, 4.0])\n",
    "\n",
    "def normalize(V): # V est passé en entrée et en sortie\n",
    "    T = size(V)\n",
    "    N = norm(V)\n",
    "    if N == 0:\n",
    "        return\n",
    "    for i in range(0, T, 1):\n",
    "        V[i] = V[i] / N\n",
    "\n",
    "normalize(V)\n",
    "V"
   ]
  },
  {
   "cell_type": "markdown",
   "id": "ee91e692",
   "metadata": {},
   "source": [
    "### Exercice 1.17"
   ]
  },
  {
   "cell_type": "code",
   "execution_count": 27,
   "id": "2d999cd9",
   "metadata": {},
   "outputs": [
    {
     "data": {
      "text/plain": [
       "(2, [0, 0, 3, 4])"
      ]
     },
     "execution_count": 27,
     "metadata": {},
     "output_type": "execute_result"
    }
   ],
   "source": [
    "def sparse(v, e):\n",
    "    t = size(v)\n",
    "    n = 0\n",
    "    for i in range(0, t, 1):\n",
    "        if abs(v[i] <= e):\n",
    "            V[i] = 0\n",
    "            n = n + 1\n",
    "    return n\n",
    "\n",
    "V = [1, 2, 3, 4]\n",
    "sparse(V, 2), V"
   ]
  },
  {
   "cell_type": "markdown",
   "id": "bb983bae",
   "metadata": {},
   "source": [
    "### Exercice 1.18. Matrice creuse"
   ]
  },
  {
   "cell_type": "markdown",
   "id": "c85049e6",
   "metadata": {},
   "source": [
    "Pour une matrice de taille carrée de taill $n\\times{n}$, il\n",
    "faut garder en mémoire $n*m$ nombres.\n",
    "Dans la représentation creuse, il faut garder en mémoire pour chaque entrée 3 nombres (2 indices $i$ et $j$ ainsi que l'élément `M[i, j] != 0`).\n",
    "\n",
    "Soit $p$ le nombre d'élements non-nuls. La représentation en matrice\n",
    "creuse est alors avantageuse si et seulement si $3p\\leq nm$, d'où\n",
    "$p \\leq \\frac{nm}{3}$.\n",
    "   \n",
    "La représentation matricielle est avantageuse dès lors que plus des\n",
    "deux tiers des éléments de la matrice sont nuls."
   ]
  },
  {
   "cell_type": "code",
   "execution_count": 28,
   "id": "037afdd3",
   "metadata": {},
   "outputs": [],
   "source": [
    "def matrix_creuse(m, c):\n",
    "    s = size(m)\n",
    "    t = 0\n",
    "    for i in range(0, s[0], 1):\n",
    "        for j in range(0, s[1], 1):\n",
    "            if m[i, j] != 0:\n",
    "                t = t + 1\n",
    "                c[t, 0] = i\n",
    "                c[t, 1] = j\n",
    "                c[r, 2] = m[i, j]\n",
    "    return s[0] * s[1] / (3 * t)"
   ]
  },
  {
   "cell_type": "markdown",
   "id": "9b52deb4",
   "metadata": {},
   "source": [
    "## Modules recursifs"
   ]
  },
  {
   "cell_type": "markdown",
   "id": "2d7f71f6",
   "metadata": {},
   "source": [
    "Un module (fonction ou procédure) est dit **récursif**, dès lors que son corps de module comprend au moins un appel à lui-même.\n",
    "\n",
    "```py\n",
    "def mod_rec(p1, p2, ..., pn):\n",
    "    pass\n",
    "    mod_rec(a1, a2, ..., an)\n",
    "    pass\n",
    "```"
   ]
  },
  {
   "cell_type": "code",
   "execution_count": 29,
   "id": "ff9ac5f4",
   "metadata": {},
   "outputs": [],
   "source": [
    "# Calcul de la factorielle\n",
    "def factorial(n):\n",
    "    if (n <= 1):\n",
    "        return 1\n",
    "    return n * factorial(n - 1)"
   ]
  },
  {
   "cell_type": "code",
   "execution_count": 30,
   "id": "4168e136",
   "metadata": {},
   "outputs": [],
   "source": [
    "# Exponentiation\n",
    "def expn(x, n):\n",
    "    if n == 0:\n",
    "        return 1\n",
    "    return x * expn(x, n - 1)"
   ]
  },
  {
   "cell_type": "markdown",
   "id": "feba6c83",
   "metadata": {},
   "source": [
    "**Note**: un module récursif peut faire appel à lui-même plus d’une fois dans son corps de module."
   ]
  },
  {
   "cell_type": "code",
   "execution_count": 31,
   "id": "60e66f0e",
   "metadata": {},
   "outputs": [],
   "source": [
    "# Exponentiation rapide\n",
    "def fast_expn(x, n):\n",
    "    if n == 0:\n",
    "        return 1\n",
    "    if n % 2 == 0:\n",
    "        return fast_expn(x, n / 2) * fast_expn(x, n / 2)\n",
    "    else:\n",
    "        return fast_expn(x, n // 2) * fast_expn(x, n // 2) * x\n",
    "    \n",
    "# Attention à la division d'indices entiers !"
   ]
  },
  {
   "cell_type": "code",
   "execution_count": 32,
   "id": "644f6ffc",
   "metadata": {},
   "outputs": [],
   "source": [
    "# Exponentiation rapide (optimisée)\n",
    "def fast_expn_v2(x, n):\n",
    "    if n == 0:\n",
    "        return 1\n",
    "    r = fast_expn_v2(x, n // 2)\n",
    "    r = r * r\n",
    "    if (n % 2 != 0):\n",
    "        r = x * r\n",
    "    return r"
   ]
  },
  {
   "cell_type": "code",
   "execution_count": 33,
   "id": "0b9a94bd",
   "metadata": {},
   "outputs": [
    {
     "data": {
      "text/plain": [
       "(1024, 1024, 1024, 1024)"
      ]
     },
     "execution_count": 33,
     "metadata": {},
     "output_type": "execute_result"
    }
   ],
   "source": [
    "# En appelant les fonctions précédentes\n",
    "\n",
    "x = 2\n",
    "n = 10\n",
    "\n",
    "x**n, expn(x, n), fast_expn(x, n), fast_expn_v2(x, n)"
   ]
  },
  {
   "cell_type": "code",
   "execution_count": 34,
   "id": "8d3f6895",
   "metadata": {},
   "outputs": [],
   "source": [
    "# Suite de Fibonnaci\n",
    "def fibo(n):\n",
    "    if n <= 2:\n",
    "        return 1\n",
    "    return fibo(n - 1) + fibo(n - 2)"
   ]
  },
  {
   "cell_type": "code",
   "execution_count": 35,
   "id": "05680dcc",
   "metadata": {},
   "outputs": [
    {
     "data": {
      "text/plain": [
       "(1, 2, 3, 5)"
      ]
     },
     "execution_count": 35,
     "metadata": {},
     "output_type": "execute_result"
    }
   ],
   "source": [
    "fibo(2), fibo(3), fibo(4), fibo(5)"
   ]
  },
  {
   "cell_type": "markdown",
   "id": "2f457021",
   "metadata": {},
   "source": [
    "### Exemple 5 : le tri fusion"
   ]
  },
  {
   "cell_type": "code",
   "execution_count": 36,
   "id": "1137e29d",
   "metadata": {},
   "outputs": [],
   "source": [
    "# TODO: Algo en python\n",
    "\n",
    "def fusion(t1, t2, t):\n",
    "    n1 = size(t1)\n",
    "    n2 = size(t2)\n",
    "    i1 = 1\n",
    "    i2 = 1\n",
    "    while i1 <= n1 and i2 <= n2:\n",
    "        i = i1 + i2 - 1\n",
    "        if t1[i1] <= t2[i2]:\n",
    "            t[i] = t1[i1]\n",
    "            i1 = i1 + 1\n",
    "        else:\n",
    "            t[i] = t2[i2]\n",
    "            i2 = i2 + 1\n",
    "            \n",
    "def trifusion(t):\n",
    "    n = size(t)\n",
    "    if n <= 1:\n",
    "        return t\n",
    "    \n",
    "# TODO"
   ]
  },
  {
   "cell_type": "markdown",
   "id": "384ed0a8",
   "metadata": {},
   "source": [
    "### Exercice 1.20: Écrire une version récursive du module `fusion`"
   ]
  },
  {
   "cell_type": "markdown",
   "id": "89203e72",
   "metadata": {},
   "source": [
    "### Exercide 1.21: Recherche d'un élément dans une liste"
   ]
  },
  {
   "cell_type": "markdown",
   "id": "a943cb7b",
   "metadata": {},
   "source": [
    "### Recursivité croisée\n",
    "\n",
    "On parle de récursivité croisée, lorsque deux fonctions s’appellent mutuellement."
   ]
  },
  {
   "cell_type": "markdown",
   "id": "450d35ad",
   "metadata": {},
   "source": [
    "### Exercice 1.23 : Pair et impair"
   ]
  },
  {
   "cell_type": "markdown",
   "id": "4848cd8d",
   "metadata": {},
   "source": [
    "# Chaînes de caractères\n",
    "\n",
    "Deux fonctions de manipulation :\n",
    "- `length(s)`:\n",
    "  + entrée: une *chaine de caractère* `s`\n",
    "  + sortie: la taille de `s` (en nombre de caractères).\n",
    "- `substr(s, i, l)`:\n",
    "  + entrée: une *chaine de caractères* `s`, un indice initial `i` et\n",
    "    une longueur `l`.\n",
    "  + sortie: la sous-chaine de `s` de longueur `l` débutant à `i`"
   ]
  },
  {
   "cell_type": "code",
   "execution_count": 37,
   "id": "344a5b9c",
   "metadata": {},
   "outputs": [
    {
     "data": {
      "text/plain": [
       "(16, 'exemple')"
      ]
     },
     "execution_count": 37,
     "metadata": {},
     "output_type": "execute_result"
    }
   ],
   "source": [
    "s = \"voici un exemple\"\n",
    "length(s), substr(s, 9, 7)"
   ]
  },
  {
   "cell_type": "markdown",
   "id": "4b04b04f",
   "metadata": {},
   "source": [
    "# Exercices\n",
    "\n",
    "Pour chacun des algoritmes ci-dessous, lorsqu'il est demandé d'écrire un algorithme, on donnera le code `mini-Python`, le squelette ainsi que le degré d'emboitement."
   ]
  },
  {
   "cell_type": "markdown",
   "id": "2e84cb64",
   "metadata": {},
   "source": [
    "### Exercice 1.24 : Demi-additionneur logique\n",
    "\n",
    "1. Le premier circuit est écrit en algèbre booléenne par :\n",
    "   $$\n",
    "   \\begin{align}\n",
    "   S &= \\overline{(A + B)} \\\\\n",
    "   C &= AB\n",
    "   \\end{align}\n",
    "   $$\n",
    "\n",
    "   Le second circuit est écrit en alèbre booléenne par :\n",
    "   $$\n",
    "   \\begin{align}\n",
    "   S &= \\overline{%\n",
    "     \\overline{A\\overline{AB}}\\ \\overline{B\\overline{AB}}\n",
    "   }\n",
    "   \\\\\n",
    "   C &= \\overline{1\\overline{(AB)}}\n",
    "   \\end{align}\n",
    "   $$\n",
    "   \n",
    "\n",
    "2. Toute logique peut-être exprimée seulement par `nand` (i.e $\\overline{ab}$) :\n",
    "   $$\n",
    "   \\begin{align}\n",
    "   \\overline{a} &= \\overline{aa} & \\text{non}\\\\\n",
    "   ab &= \\overline{\\overline{ab}} & \\text{and}\\\\\n",
    "   a + b &= \\overline{\\overline{a}\\overline{b}} & \\text{or}\\\\\n",
    "   a\\overline{b} + \\overline{a}b & & \\text{xor}\n",
    "   \\end{align}\n",
    "   $$\n",
    "   \n",
    "  Idem pour l'opérateur logique `nor` (je vous laisse faire le même exercice si ça vous amuse)."
   ]
  },
  {
   "cell_type": "markdown",
   "id": "1f62b5ca",
   "metadata": {},
   "source": [
    "### Exercice 1.25 : Miroir d'une chaîne de caractère"
   ]
  },
  {
   "cell_type": "code",
   "execution_count": 38,
   "id": "7f32e03a",
   "metadata": {},
   "outputs": [],
   "source": [
    "def reverse_string(s):\n",
    "    rev = \"\"\n",
    "    n = length(s)\n",
    "    for i in range(n, -1, -1):\n",
    "        rev = rev + substr(s, i, 1)\n",
    "    return rev"
   ]
  },
  {
   "cell_type": "code",
   "execution_count": 39,
   "id": "a592c09c",
   "metadata": {},
   "outputs": [
    {
     "data": {
      "text/plain": [
       "('emmargorp', 'kayak')"
      ]
     },
     "execution_count": 39,
     "metadata": {},
     "output_type": "execute_result"
    }
   ],
   "source": [
    "reverse_string('programme'), reverse_string('kayak')"
   ]
  },
  {
   "cell_type": "markdown",
   "id": "fcb4eeec",
   "metadata": {},
   "source": [
    "### Exercice 1.26 : Décompte de mots"
   ]
  },
  {
   "cell_type": "code",
   "execution_count": 40,
   "id": "4d210771",
   "metadata": {},
   "outputs": [
    {
     "data": {
      "text/plain": [
       "4"
      ]
     },
     "execution_count": 40,
     "metadata": {},
     "output_type": "execute_result"
    }
   ],
   "source": [
    "def word_count(s):\n",
    "    if s == \"\":\n",
    "        return 0\n",
    "    count = 1\n",
    "    n = length(s)\n",
    "    for i in range(0, n, 1):\n",
    "        if substr(s, i, 1) == \" \":\n",
    "            count = count + 1\n",
    "    return count\n",
    "\n",
    "word_count(\"un leger matin d'été\")\n",
    "\n",
    "# L'algo ci-dessus pourrait être plus intelligent\n",
    "# i.e reconnaitre les espaces multiples"
   ]
  },
  {
   "cell_type": "markdown",
   "id": "12225bb3",
   "metadata": {},
   "source": [
    "### Exercice 1.27 : Calcul de $\\pi$ par Monte-Carlo"
   ]
  },
  {
   "cell_type": "code",
   "execution_count": 41,
   "id": "16e6a385",
   "metadata": {},
   "outputs": [
    {
     "name": "stdout",
     "output_type": "stream",
     "text": [
      "-2 2\n",
      "-2 2\n"
     ]
    },
    {
     "data": {
      "text/plain": [
       "3.14896"
      ]
     },
     "execution_count": 41,
     "metadata": {},
     "output_type": "execute_result"
    }
   ],
   "source": [
    "def pi_monte_carlo(N, xc, yc, r, xmin, ymin, xmax, ymax):\n",
    "    n = 0\n",
    "    print(xmin, xmax)\n",
    "    print(ymin, ymax)\n",
    "    for i in range(0, N, 1):\n",
    "        # [xmin, xmax] = [0, xmax - xmin] - [xmin, xmin]\n",
    "        #              = ([0, 1] - xmin) / (xmax - xmin)\n",
    "        x = rand() * (xmax - xmin) + xmin\n",
    "        y = rand() * (ymax - ymin) + ymin\n",
    "        # distance à l'origine\n",
    "        d = sqrt((x - xc) ** 2 + (y - yc) ** 2)\n",
    "        if d <= r:\n",
    "            n = n + 1\n",
    "    aire_emprise = (xmax - xmin) * (ymax - ymin)\n",
    "    aire_cercle = n / N * aire_emprise\n",
    "    return aire_cercle / r ** 2\n",
    "\n",
    "pi_monte_carlo(100000, 0, 0, 2, -2, -2, 2, 2)\n",
    "        \n",
    "# TODO: Plot pour que ce soit plus visuel"
   ]
  },
  {
   "cell_type": "markdown",
   "id": "a77c2646",
   "metadata": {},
   "source": [
    "### Exercice 1.28 : Analyse des fréquences dans une chaine de caractères"
   ]
  },
  {
   "cell_type": "markdown",
   "id": "bc619f2f",
   "metadata": {},
   "source": [
    "### Exercice 1.29 : Ligne de somme maximale dans une matrice"
   ]
  },
  {
   "cell_type": "markdown",
   "id": "5c4cfc4e",
   "metadata": {},
   "source": [
    "### Exercice 1.30 : Logarithme itéré $\\log^{*}_{b} x$"
   ]
  },
  {
   "cell_type": "code",
   "execution_count": 42,
   "id": "00d5a130",
   "metadata": {},
   "outputs": [
    {
     "data": {
      "text/plain": [
       "4"
      ]
     },
     "execution_count": 42,
     "metadata": {},
     "output_type": "execute_result"
    }
   ],
   "source": [
    "def log_iter(b, x):\n",
    "    if x <= 1:\n",
    "        return 1\n",
    "    return 1 + log_iter(log(x)/log(b), b)\n",
    "\n",
    "log_iter(2, 64)"
   ]
  },
  {
   "cell_type": "markdown",
   "id": "28a8a63d",
   "metadata": {},
   "source": [
    "### Exercice 1.31 : Recherche dichotomique"
   ]
  },
  {
   "cell_type": "code",
   "execution_count": 43,
   "id": "7478a08d",
   "metadata": {},
   "outputs": [],
   "source": [
    "# Version recursive\n",
    "def binary_search(arr, x, low, up):\n",
    "    if up < low:\n",
    "        return False\n",
    "    mid = (low + up) // 2 \n",
    "    if x == arr[mid]:\n",
    "        return True\n",
    "    elif x > arr[mid]:\n",
    "        return binary_search(arr, x, mid + 1, up)\n",
    "    else:\n",
    "        return binary_search(arr, x, low, mid - 1)\n",
    "\n",
    "# Version itérative\n",
    "def binary_search_iter(a, x, low, up):\n",
    "    while low <= up:\n",
    "        mid = (up + low) // 2\n",
    "        if a[mid] == x:\n",
    "            return True\n",
    "        elif a[mid] < x:\n",
    "            low = mid + 1\n",
    "        else:\n",
    "            up = mid - 1\n",
    "    return False"
   ]
  },
  {
   "cell_type": "code",
   "execution_count": 44,
   "id": "5153290c",
   "metadata": {},
   "outputs": [],
   "source": [
    "def search_rec(a, x):\n",
    "    return binary_search(a, x, 0, len(a) - 1)\n",
    "\n",
    "def search_iter(a, x):\n",
    "    return binary_search_iter(a, x, 0, len(a) - 1)"
   ]
  },
  {
   "cell_type": "markdown",
   "id": "6a62089d",
   "metadata": {},
   "source": [
    "### Exercice 1.34 : Multiplication de grands entiers"
   ]
  },
  {
   "cell_type": "code",
   "execution_count": 45,
   "id": "aa097381",
   "metadata": {},
   "outputs": [],
   "source": [
    "def mult_bigint(a, b):\n",
    "    na = size(a)\n",
    "    nb = size(b)\n",
    "    s = 0\n",
    "    for i in range(0, na, 1):\n",
    "        for j in range(0, nb, 1):\n",
    "            x = a[i] * (10 ** (na - i - 1))\n",
    "            y = b[j] * (10 ** (nb - j - 1))\n",
    "            s = s + x * y\n",
    "    return s"
   ]
  },
  {
   "cell_type": "markdown",
   "id": "93d6cb95",
   "metadata": {},
   "source": [
    "### Exercice 1.36: Problèmes de satisfiabilité\n",
    "\n",
    "TODO: Poly correction sur papier"
   ]
  }
 ],
 "metadata": {
  "kernelspec": {
   "display_name": "Python 3 (ipykernel)",
   "language": "python",
   "name": "python3"
  },
  "language_info": {
   "codemirror_mode": {
    "name": "ipython",
    "version": 3
   },
   "file_extension": ".py",
   "mimetype": "text/x-python",
   "name": "python",
   "nbconvert_exporter": "python",
   "pygments_lexer": "ipython3",
   "version": "3.9.13"
  }
 },
 "nbformat": 4,
 "nbformat_minor": 5
}
